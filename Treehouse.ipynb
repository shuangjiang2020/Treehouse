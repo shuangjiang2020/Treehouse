{
 "cells": [
  {
   "cell_type": "markdown",
   "metadata": {},
   "source": [
    "### 1 "
   ]
  },
  {
   "cell_type": "code",
   "execution_count": null,
   "metadata": {},
   "outputs": [],
   "source": [
    "name_=[]\n",
    "for i in Employee.id:\n",
    "    a=Employee[Employee.id==i].manager_id\n",
    "    if (Employee[Employee.id==i].Salary)>(Employee[Employee.id==a.iloc[0]].Salary):\n",
    "        name_.append(Employee[Employee.id==i].Name)"
   ]
  },
  {
   "cell_type": "code",
   "execution_count": null,
   "metadata": {},
   "outputs": [],
   "source": [
    "not_manager=[]\n",
    "sum_salary=0\n",
    "for i in Employee.id:\n",
    "    if i not in Employee.manager_id.unique():\n",
    "        sum_salary+=Employee[Employee.id==i].Salary\n",
    "        not_manager.append(i)\n",
    "average_salary=sum_salary/len(not_manager)"
   ]
  },
  {
   "cell_type": "markdown",
   "metadata": {},
   "source": [
    "### 2"
   ]
  },
  {
   "cell_type": "code",
   "execution_count": null,
   "metadata": {},
   "outputs": [],
   "source": [
    "def exists(v):\n",
    "    if defined(v):\n",
    "        return \"Y\"\n",
    "    else:\n",
    "        return \"N\"\n",
    "    "
   ]
  },
  {
   "cell_type": "markdown",
   "metadata": {},
   "source": [
    "### 3"
   ]
  },
  {
   "cell_type": "code",
   "execution_count": null,
   "metadata": {},
   "outputs": [],
   "source": [
    "def get_triangle(rows):\n",
    "    triangle=[]\n",
    "    \n",
    "    for row in range(rows):\n",
    "        row=[None for _ in range(row+1)]\n",
    "        row[0],row[-1]=1,1\n",
    "        \n",
    "        for j in range(1,len(row)-1):\n",
    "            row[j]=triangle[row-1][j-1]+triangle[row-1][j]\n",
    "            triangle.append(row)\n",
    "    \n",
    "    return triangle"
   ]
  },
  {
   "cell_type": "markdown",
   "metadata": {},
   "source": [
    "### 4"
   ]
  },
  
  {
   "cell_type": "markdown",
   "metadata": {},
   "source": [
    "### 5"
   ]
  },
  {
   "cell_type": "code",
   "execution_count": null,
   "metadata": {},
   "outputs": [],
   "source": [
    "use Linux/Shell is the Best way, you can open git bash tool to write shell under windows system.\n",
    "a. ls *.py | wc -l\n",
    "b. in total: cat *.py | wc -l\n",
    "   comment line: cat *.py | grep '^#' | wc -l\n",
    "c. cat *.py | grep 'def '| wc -l\n",
    "d. git diff --stat HEAD~3\n",
    "e. du -shm ./*/*/"
   ]
  },
  {
   "cell_type": "markdown",
   "metadata": {},
   "source": [
    "### 6"
   ]
  },
  {
   "cell_type": "code",
   "execution_count": null,
   "metadata": {},
   "outputs": [],
   "source": [
    "cat text.txt | grep -Po '(\\d\\d\\d\\d\\/\\d\\d\\/\\d\\d|\\d\\d\\/(\\d\\d|(Jan|Feb|Mar|Apr|May|Jun|Jul|Aug|Sep|Oct|Nov|Dec))\\/\\d\\d\\d\\d)' | wc -l"
   ]
  }
 ],
 "metadata": {
  "kernelspec": {
   "display_name": "Python 3",
   "language": "python",
   "name": "python3"
  },
  "language_info": {
   "codemirror_mode": {
    "name": "ipython",
    "version": 3
   },
   "file_extension": ".py",
   "mimetype": "text/x-python",
   "name": "python",
   "nbconvert_exporter": "python",
   "pygments_lexer": "ipython3",
   "version": "3.8.5"
  }
 },
 "nbformat": 4,
 "nbformat_minor": 4
}
