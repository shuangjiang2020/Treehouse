{
 "cells": [
  {
   "cell_type": "code",
   "execution_count": 18,
   "metadata": {},
   "outputs": [],
   "source": [
    "import numpy as np"
   ]
  },
  {
   "cell_type": "code",
   "execution_count": 1,
   "metadata": {
    "scrolled": true
   },
   "outputs": [
    {
     "name": "stdout",
     "output_type": "stream",
     "text": [
      "Collecting yfinance\n",
      "  Downloading yfinance-0.1.63.tar.gz (26 kB)\n",
      "Requirement already satisfied: pandas>=0.24 in c:\\users\\asus\\anaconda32\\lib\\site-packages (from yfinance) (1.1.3)\n",
      "Requirement already satisfied: numpy>=1.15 in c:\\users\\asus\\anaconda32\\lib\\site-packages (from yfinance) (1.19.2)\n",
      "Requirement already satisfied: requests>=2.20 in c:\\users\\asus\\anaconda32\\lib\\site-packages (from yfinance) (2.24.0)\n",
      "Processing c:\\users\\asus\\appdata\\local\\pip\\cache\\wheels\\57\\6d\\a3\\a39b839cc75274d2acfb1c58bfead2f726c6577fe8c4723f13\\multitasking-0.0.9-py3-none-any.whl\n",
      "Requirement already satisfied: lxml>=4.5.1 in c:\\users\\asus\\anaconda32\\lib\\site-packages (from yfinance) (4.6.1)\n",
      "Requirement already satisfied: python-dateutil>=2.7.3 in c:\\users\\asus\\anaconda32\\lib\\site-packages (from pandas>=0.24->yfinance) (2.8.1)\n",
      "Requirement already satisfied: pytz>=2017.2 in c:\\users\\asus\\anaconda32\\lib\\site-packages (from pandas>=0.24->yfinance) (2020.1)\n",
      "Requirement already satisfied: urllib3!=1.25.0,!=1.25.1,<1.26,>=1.21.1 in c:\\users\\asus\\anaconda32\\lib\\site-packages (from requests>=2.20->yfinance) (1.25.11)\n",
      "Requirement already satisfied: idna<3,>=2.5 in c:\\users\\asus\\anaconda32\\lib\\site-packages (from requests>=2.20->yfinance) (2.10)\n",
      "Requirement already satisfied: chardet<4,>=3.0.2 in c:\\users\\asus\\anaconda32\\lib\\site-packages (from requests>=2.20->yfinance) (3.0.4)\n",
      "Requirement already satisfied: certifi>=2017.4.17 in c:\\users\\asus\\anaconda32\\lib\\site-packages (from requests>=2.20->yfinance) (2020.6.20)\n",
      "Requirement already satisfied: six>=1.5 in c:\\users\\asus\\anaconda32\\lib\\site-packages (from python-dateutil>=2.7.3->pandas>=0.24->yfinance) (1.15.0)\n",
      "Building wheels for collected packages: yfinance\n",
      "  Building wheel for yfinance (setup.py): started\n",
      "  Building wheel for yfinance (setup.py): finished with status 'done'\n",
      "  Created wheel for yfinance: filename=yfinance-0.1.63-py2.py3-none-any.whl size=23914 sha256=917614e7a457a695d786c30df21e40fe6f654fe471eeaf86d057f7306c04efab\n",
      "  Stored in directory: c:\\users\\asus\\appdata\\local\\pip\\cache\\wheels\\ec\\cc\\c1\\32da8ee853d742d5d7cbd11ee04421222eb354672020b57297\n",
      "Successfully built yfinance\n",
      "Installing collected packages: multitasking, yfinance\n",
      "Successfully installed multitasking-0.0.9 yfinance-0.1.63\n"
     ]
    }
   ],
   "source": [
    "!pip install yfinance"
   ]
  },
  {
   "cell_type": "code",
   "execution_count": 2,
   "metadata": {},
   "outputs": [],
   "source": [
    "import yfinance as yf\n",
    "msft = yf.Ticker(\"MSFT\")"
   ]
  },
  {
   "cell_type": "code",
   "execution_count": 4,
   "metadata": {
    "collapsed": true
   },
   "outputs": [
    {
     "data": {
      "text/plain": [
       "{'zip': '98052-6399',\n",
       " 'sector': 'Technology',\n",
       " 'fullTimeEmployees': 181000,\n",
       " 'longBusinessSummary': 'Microsoft Corporation develops, licenses, and supports software, services, devices, and solutions worldwide. Its Productivity and Business Processes segment offers Office, Exchange, SharePoint, Microsoft Teams, Office 365 Security and Compliance, and Skype for Business, as well as related Client Access Licenses (CAL); Skype, Outlook.com, OneDrive, and LinkedIn; and Dynamics 365, a set of cloud-based and on-premises business solutions for organizations and enterprise divisions. Its Intelligent Cloud segment licenses SQL, Windows Servers, Visual Studio, System Center, and related CALs; GitHub that provides a collaboration platform and code hosting service for developers; and Azure, a cloud platform. It also offers support services and Microsoft consulting services to assist customers in developing, deploying, and managing Microsoft server and desktop solutions; and training and certification on Microsoft products. Its More Personal Computing segment provides Windows original equipment manufacturer (OEM) licensing and other non-volume licensing of the Windows operating system; Windows Commercial, such as volume licensing of the Windows operating system, Windows cloud services, and other Windows commercial offerings; patent licensing; Windows Internet of Things; and MSN advertising. It also offers Surface, PC accessories, PCs, tablets, gaming and entertainment consoles, and other devices; Gaming, including Xbox hardware, and Xbox content and services; video games and third-party video game royalties; and Search, including Bing and Microsoft advertising. It sells its products through OEMs, distributors, and resellers; and directly through digital marketplaces, online stores, and retail stores. It has collaborations with Dynatrace, Inc., Morgan Stanley, Micro Focus, WPP plc, ACI Worldwide, Inc., and iCIMS, Inc., as well as a strategic relationship with Avaya Holdings Corp. Microsoft Corporation was founded in 1975 and is headquartered in Redmond, Washington.',\n",
       " 'city': 'Redmond',\n",
       " 'phone': '425 882 8080',\n",
       " 'state': 'WA',\n",
       " 'country': 'United States',\n",
       " 'companyOfficers': [],\n",
       " 'website': 'http://www.microsoft.com',\n",
       " 'maxAge': 1,\n",
       " 'address1': 'One Microsoft Way',\n",
       " 'industry': 'Software—Infrastructure',\n",
       " 'ebitdaMargins': 0.48080003,\n",
       " 'profitMargins': 0.36451998,\n",
       " 'grossMargins': 0.68926,\n",
       " 'operatingCashflow': 76740001792,\n",
       " 'revenueGrowth': 0.213,\n",
       " 'operatingMargins': 0.41595,\n",
       " 'ebitda': 80815996928,\n",
       " 'targetLowPrice': 275,\n",
       " 'recommendationKey': 'buy',\n",
       " 'grossProfits': 115856000000,\n",
       " 'freeCashflow': 41337249792,\n",
       " 'targetMedianPrice': 326.9,\n",
       " 'currentPrice': 302.01,\n",
       " 'earningsGrowth': 0.486,\n",
       " 'currentRatio': 2.08,\n",
       " 'returnOnAssets': 0.13761,\n",
       " 'numberOfAnalystOpinions': 32,\n",
       " 'targetMeanPrice': 328.78,\n",
       " 'debtToEquity': 57.947,\n",
       " 'returnOnEquity': 0.47079,\n",
       " 'targetHighPrice': 411,\n",
       " 'totalCash': 130256003072,\n",
       " 'totalDebt': 82277998592,\n",
       " 'totalRevenue': 168087994368,\n",
       " 'totalCashPerShare': 17.333,\n",
       " 'financialCurrency': 'USD',\n",
       " 'revenuePerShare': 22.272,\n",
       " 'quickRatio': 1.898,\n",
       " 'recommendationMean': 1.6,\n",
       " 'exchange': 'NMS',\n",
       " 'shortName': 'Microsoft Corporation',\n",
       " 'longName': 'Microsoft Corporation',\n",
       " 'exchangeTimezoneName': 'America/New_York',\n",
       " 'exchangeTimezoneShortName': 'EDT',\n",
       " 'isEsgPopulated': False,\n",
       " 'gmtOffSetMilliseconds': '-14400000',\n",
       " 'quoteType': 'EQUITY',\n",
       " 'symbol': 'MSFT',\n",
       " 'messageBoardId': 'finmb_21835',\n",
       " 'market': 'us_market',\n",
       " 'annualHoldingsTurnover': None,\n",
       " 'enterpriseToRevenue': 13.244,\n",
       " 'beta3Year': None,\n",
       " 'enterpriseToEbitda': 27.546,\n",
       " '52WeekChange': 0.33559895,\n",
       " 'morningStarRiskRating': None,\n",
       " 'forwardEps': 10.01,\n",
       " 'revenueQuarterlyGrowth': None,\n",
       " 'sharesOutstanding': 7514890240,\n",
       " 'fundInceptionDate': None,\n",
       " 'annualReportExpenseRatio': None,\n",
       " 'totalAssets': None,\n",
       " 'bookValue': 18.884,\n",
       " 'sharesShort': 41985444,\n",
       " 'sharesPercentSharesOut': 0.0056,\n",
       " 'fundFamily': None,\n",
       " 'lastFiscalYearEnd': 1625011200,\n",
       " 'heldPercentInstitutions': 0.71742994,\n",
       " 'netIncomeToCommon': 61270999040,\n",
       " 'trailingEps': 8.05,\n",
       " 'lastDividendValue': None,\n",
       " 'SandP52WeekChange': 0.2874632,\n",
       " 'priceToBook': 15.992904,\n",
       " 'heldPercentInsiders': 0.00078,\n",
       " 'nextFiscalYearEnd': 1688083200,\n",
       " 'yield': None,\n",
       " 'mostRecentQuarter': 1625011200,\n",
       " 'shortRatio': 1.94,\n",
       " 'sharesShortPreviousMonthDate': 1626307200,\n",
       " 'floatShares': 7507000612,\n",
       " 'beta': 0.776223,\n",
       " 'enterpriseValue': 2226178490368,\n",
       " 'priceHint': 2,\n",
       " 'threeYearAverageReturn': None,\n",
       " 'lastSplitDate': None,\n",
       " 'lastSplitFactor': None,\n",
       " 'legalType': None,\n",
       " 'lastDividendDate': None,\n",
       " 'morningStarOverallRating': None,\n",
       " 'earningsQuarterlyGrowth': 0.469,\n",
       " 'priceToSalesTrailing12Months': 13.502285,\n",
       " 'dateShortInterest': 1628812800,\n",
       " 'pegRatio': 2.14,\n",
       " 'ytdReturn': None,\n",
       " 'forwardPE': 30.17083,\n",
       " 'lastCapGain': None,\n",
       " 'shortPercentOfFloat': 0.0056,\n",
       " 'sharesShortPriorMonth': 56416544,\n",
       " 'impliedSharesOutstanding': None,\n",
       " 'category': None,\n",
       " 'fiveYearAverageReturn': None,\n",
       " 'previousClose': 302.62,\n",
       " 'regularMarketOpen': 304.3,\n",
       " 'twoHundredDayAverage': 258.13818,\n",
       " 'trailingAnnualDividendYield': 0.0074020224,\n",
       " 'payoutRatio': 0.272,\n",
       " 'volume24Hr': None,\n",
       " 'regularMarketDayHigh': 304.59,\n",
       " 'navPrice': None,\n",
       " 'averageDailyVolume10Day': 25149785,\n",
       " 'regularMarketPreviousClose': 302.62,\n",
       " 'fiftyDayAverage': 287.236,\n",
       " 'trailingAnnualDividendRate': 2.24,\n",
       " 'open': 304.3,\n",
       " 'toCurrency': None,\n",
       " 'averageVolume10days': 25149785,\n",
       " 'expireDate': None,\n",
       " 'algorithm': None,\n",
       " 'dividendRate': 2.24,\n",
       " 'exDividendDate': 1629244800,\n",
       " 'circulatingSupply': None,\n",
       " 'startDate': None,\n",
       " 'regularMarketDayLow': 300.42,\n",
       " 'currency': 'USD',\n",
       " 'trailingPE': 37.51677,\n",
       " 'regularMarketVolume': 20006057,\n",
       " 'lastMarket': None,\n",
       " 'maxSupply': None,\n",
       " 'openInterest': None,\n",
       " 'marketCap': 2269571973120,\n",
       " 'volumeAllCurrencies': None,\n",
       " 'strikePrice': None,\n",
       " 'averageVolume': 22699419,\n",
       " 'dayLow': 300.42,\n",
       " 'ask': 302,\n",
       " 'askSize': 900,\n",
       " 'volume': 20006057,\n",
       " 'fiftyTwoWeekHigh': 305.84,\n",
       " 'fromCurrency': None,\n",
       " 'fiveYearAvgDividendYield': 1.54,\n",
       " 'fiftyTwoWeekLow': 196.25,\n",
       " 'bid': 302.05,\n",
       " 'tradeable': False,\n",
       " 'dividendYield': 0.0074,\n",
       " 'bidSize': 900,\n",
       " 'dayHigh': 304.59,\n",
       " 'regularMarketPrice': 302.01,\n",
       " 'logo_url': 'https://logo.clearbit.com/microsoft.com'}"
      ]
     },
     "execution_count": 4,
     "metadata": {},
     "output_type": "execute_result"
    }
   ],
   "source": [
    "msft.info"
   ]
  },
  {
   "cell_type": "code",
   "execution_count": 5,
   "metadata": {},
   "outputs": [],
   "source": [
    "hist = msft.history(period=\"5d\")"
   ]
  },
  {
   "cell_type": "code",
   "execution_count": 6,
   "metadata": {
    "scrolled": true
   },
   "outputs": [
    {
     "data": {
      "text/html": [
       "<div>\n",
       "<style scoped>\n",
       "    .dataframe tbody tr th:only-of-type {\n",
       "        vertical-align: middle;\n",
       "    }\n",
       "\n",
       "    .dataframe tbody tr th {\n",
       "        vertical-align: top;\n",
       "    }\n",
       "\n",
       "    .dataframe thead th {\n",
       "        text-align: right;\n",
       "    }\n",
       "</style>\n",
       "<table border=\"1\" class=\"dataframe\">\n",
       "  <thead>\n",
       "    <tr style=\"text-align: right;\">\n",
       "      <th></th>\n",
       "      <th>Open</th>\n",
       "      <th>High</th>\n",
       "      <th>Low</th>\n",
       "      <th>Close</th>\n",
       "      <th>Volume</th>\n",
       "      <th>Dividends</th>\n",
       "      <th>Stock Splits</th>\n",
       "    </tr>\n",
       "    <tr>\n",
       "      <th>Date</th>\n",
       "      <th></th>\n",
       "      <th></th>\n",
       "      <th></th>\n",
       "      <th></th>\n",
       "      <th></th>\n",
       "      <th></th>\n",
       "      <th></th>\n",
       "    </tr>\n",
       "  </thead>\n",
       "  <tbody>\n",
       "    <tr>\n",
       "      <th>2021-08-19</th>\n",
       "      <td>288.690002</td>\n",
       "      <td>297.470001</td>\n",
       "      <td>288.640015</td>\n",
       "      <td>296.769989</td>\n",
       "      <td>29850500</td>\n",
       "      <td>0</td>\n",
       "      <td>0</td>\n",
       "    </tr>\n",
       "    <tr>\n",
       "      <th>2021-08-20</th>\n",
       "      <td>299.720001</td>\n",
       "      <td>305.839996</td>\n",
       "      <td>298.059998</td>\n",
       "      <td>304.359985</td>\n",
       "      <td>40796100</td>\n",
       "      <td>0</td>\n",
       "      <td>0</td>\n",
       "    </tr>\n",
       "    <tr>\n",
       "      <th>2021-08-23</th>\n",
       "      <td>303.250000</td>\n",
       "      <td>305.399994</td>\n",
       "      <td>301.850006</td>\n",
       "      <td>304.649994</td>\n",
       "      <td>22830200</td>\n",
       "      <td>0</td>\n",
       "      <td>0</td>\n",
       "    </tr>\n",
       "    <tr>\n",
       "      <th>2021-08-24</th>\n",
       "      <td>305.019989</td>\n",
       "      <td>305.649994</td>\n",
       "      <td>302.000000</td>\n",
       "      <td>302.619995</td>\n",
       "      <td>18175800</td>\n",
       "      <td>0</td>\n",
       "      <td>0</td>\n",
       "    </tr>\n",
       "    <tr>\n",
       "      <th>2021-08-25</th>\n",
       "      <td>304.299988</td>\n",
       "      <td>304.589996</td>\n",
       "      <td>300.420013</td>\n",
       "      <td>302.010010</td>\n",
       "      <td>19999400</td>\n",
       "      <td>0</td>\n",
       "      <td>0</td>\n",
       "    </tr>\n",
       "  </tbody>\n",
       "</table>\n",
       "</div>"
      ],
      "text/plain": [
       "                  Open        High         Low       Close    Volume  \\\n",
       "Date                                                                   \n",
       "2021-08-19  288.690002  297.470001  288.640015  296.769989  29850500   \n",
       "2021-08-20  299.720001  305.839996  298.059998  304.359985  40796100   \n",
       "2021-08-23  303.250000  305.399994  301.850006  304.649994  22830200   \n",
       "2021-08-24  305.019989  305.649994  302.000000  302.619995  18175800   \n",
       "2021-08-25  304.299988  304.589996  300.420013  302.010010  19999400   \n",
       "\n",
       "            Dividends  Stock Splits  \n",
       "Date                                 \n",
       "2021-08-19          0             0  \n",
       "2021-08-20          0             0  \n",
       "2021-08-23          0             0  \n",
       "2021-08-24          0             0  \n",
       "2021-08-25          0             0  "
      ]
     },
     "execution_count": 6,
     "metadata": {},
     "output_type": "execute_result"
    }
   ],
   "source": [
    "hist"
   ]
  },
  {
   "cell_type": "code",
   "execution_count": 13,
   "metadata": {},
   "outputs": [
    {
     "name": "stdout",
     "output_type": "stream",
     "text": [
      "[*********************100%***********************]  7 of 7 completed\n"
     ]
    }
   ],
   "source": [
    "data_df = yf.download([\"AAPL\",\"IBM\",\"GOOG\",\"BP\",\"XOM\",\"COST\",\"GS\"],start=\"2016-01-01\", end=\"2016-12-31\")"
   ]
  },
  {
   "cell_type": "code",
   "execution_count": 115,
   "metadata": {},
   "outputs": [],
   "source": [
    "data_df.to_csv('raw_data.csv')"
   ]
  },
  {
   "cell_type": "code",
   "execution_count": 35,
   "metadata": {},
   "outputs": [
    {
     "data": {
      "text/html": [
       "<div>\n",
       "<style scoped>\n",
       "    .dataframe tbody tr th:only-of-type {\n",
       "        vertical-align: middle;\n",
       "    }\n",
       "\n",
       "    .dataframe tbody tr th {\n",
       "        vertical-align: top;\n",
       "    }\n",
       "\n",
       "    .dataframe thead th {\n",
       "        text-align: right;\n",
       "    }\n",
       "</style>\n",
       "<table border=\"1\" class=\"dataframe\">\n",
       "  <thead>\n",
       "    <tr style=\"text-align: right;\">\n",
       "      <th></th>\n",
       "      <th>AAPL</th>\n",
       "      <th>BP</th>\n",
       "      <th>COST</th>\n",
       "      <th>GOOG</th>\n",
       "      <th>GS</th>\n",
       "      <th>IBM</th>\n",
       "      <th>XOM</th>\n",
       "    </tr>\n",
       "    <tr>\n",
       "      <th>Date</th>\n",
       "      <th></th>\n",
       "      <th></th>\n",
       "      <th></th>\n",
       "      <th></th>\n",
       "      <th></th>\n",
       "      <th></th>\n",
       "      <th></th>\n",
       "    </tr>\n",
       "  </thead>\n",
       "  <tbody>\n",
       "    <tr>\n",
       "      <th>2016-01-04</th>\n",
       "      <td>0.000855</td>\n",
       "      <td>-0.006398</td>\n",
       "      <td>-0.012136</td>\n",
       "      <td>-0.022454</td>\n",
       "      <td>-0.017145</td>\n",
       "      <td>-0.012135</td>\n",
       "      <td>-0.006286</td>\n",
       "    </tr>\n",
       "    <tr>\n",
       "      <th>2016-01-05</th>\n",
       "      <td>-0.025059</td>\n",
       "      <td>-0.004185</td>\n",
       "      <td>0.002444</td>\n",
       "      <td>0.000998</td>\n",
       "      <td>-0.017219</td>\n",
       "      <td>-0.000735</td>\n",
       "      <td>0.008521</td>\n",
       "    </tr>\n",
       "    <tr>\n",
       "      <th>2016-01-06</th>\n",
       "      <td>-0.019570</td>\n",
       "      <td>-0.020369</td>\n",
       "      <td>-0.009254</td>\n",
       "      <td>0.001400</td>\n",
       "      <td>-0.024412</td>\n",
       "      <td>-0.005006</td>\n",
       "      <td>-0.008321</td>\n",
       "    </tr>\n",
       "    <tr>\n",
       "      <th>2016-01-07</th>\n",
       "      <td>-0.042205</td>\n",
       "      <td>-0.028713</td>\n",
       "      <td>-0.022909</td>\n",
       "      <td>-0.023170</td>\n",
       "      <td>-0.030735</td>\n",
       "      <td>-0.017090</td>\n",
       "      <td>-0.016006</td>\n",
       "    </tr>\n",
       "    <tr>\n",
       "      <th>2016-01-08</th>\n",
       "      <td>0.005288</td>\n",
       "      <td>-0.017669</td>\n",
       "      <td>-0.017504</td>\n",
       "      <td>-0.016410</td>\n",
       "      <td>-0.004131</td>\n",
       "      <td>-0.009258</td>\n",
       "      <td>-0.020202</td>\n",
       "    </tr>\n",
       "    <tr>\n",
       "      <th>...</th>\n",
       "      <td>...</td>\n",
       "      <td>...</td>\n",
       "      <td>...</td>\n",
       "      <td>...</td>\n",
       "      <td>...</td>\n",
       "      <td>...</td>\n",
       "      <td>...</td>\n",
       "    </tr>\n",
       "    <tr>\n",
       "      <th>2016-12-23</th>\n",
       "      <td>0.001978</td>\n",
       "      <td>0.002981</td>\n",
       "      <td>0.000062</td>\n",
       "      <td>-0.001706</td>\n",
       "      <td>0.003540</td>\n",
       "      <td>-0.002095</td>\n",
       "      <td>-0.001761</td>\n",
       "    </tr>\n",
       "    <tr>\n",
       "      <th>2016-12-27</th>\n",
       "      <td>0.006351</td>\n",
       "      <td>0.002431</td>\n",
       "      <td>-0.000185</td>\n",
       "      <td>0.002076</td>\n",
       "      <td>0.002448</td>\n",
       "      <td>0.002579</td>\n",
       "      <td>0.000441</td>\n",
       "    </tr>\n",
       "    <tr>\n",
       "      <th>2016-12-28</th>\n",
       "      <td>-0.004264</td>\n",
       "      <td>0.003772</td>\n",
       "      <td>-0.006418</td>\n",
       "      <td>-0.008212</td>\n",
       "      <td>-0.003767</td>\n",
       "      <td>-0.005684</td>\n",
       "      <td>-0.004959</td>\n",
       "    </tr>\n",
       "    <tr>\n",
       "      <th>2016-12-29</th>\n",
       "      <td>-0.000257</td>\n",
       "      <td>0.004027</td>\n",
       "      <td>0.000745</td>\n",
       "      <td>-0.002879</td>\n",
       "      <td>-0.010264</td>\n",
       "      <td>0.002467</td>\n",
       "      <td>0.000554</td>\n",
       "    </tr>\n",
       "    <tr>\n",
       "      <th>2016-12-30</th>\n",
       "      <td>-0.007796</td>\n",
       "      <td>-0.000535</td>\n",
       "      <td>-0.006330</td>\n",
       "      <td>-0.014014</td>\n",
       "      <td>0.005332</td>\n",
       "      <td>-0.003662</td>\n",
       "      <td>-0.000996</td>\n",
       "    </tr>\n",
       "  </tbody>\n",
       "</table>\n",
       "<p>252 rows × 7 columns</p>\n",
       "</div>"
      ],
      "text/plain": [
       "                AAPL        BP      COST      GOOG        GS       IBM  \\\n",
       "Date                                                                     \n",
       "2016-01-04  0.000855 -0.006398 -0.012136 -0.022454 -0.017145 -0.012135   \n",
       "2016-01-05 -0.025059 -0.004185  0.002444  0.000998 -0.017219 -0.000735   \n",
       "2016-01-06 -0.019570 -0.020369 -0.009254  0.001400 -0.024412 -0.005006   \n",
       "2016-01-07 -0.042205 -0.028713 -0.022909 -0.023170 -0.030735 -0.017090   \n",
       "2016-01-08  0.005288 -0.017669 -0.017504 -0.016410 -0.004131 -0.009258   \n",
       "...              ...       ...       ...       ...       ...       ...   \n",
       "2016-12-23  0.001978  0.002981  0.000062 -0.001706  0.003540 -0.002095   \n",
       "2016-12-27  0.006351  0.002431 -0.000185  0.002076  0.002448  0.002579   \n",
       "2016-12-28 -0.004264  0.003772 -0.006418 -0.008212 -0.003767 -0.005684   \n",
       "2016-12-29 -0.000257  0.004027  0.000745 -0.002879 -0.010264  0.002467   \n",
       "2016-12-30 -0.007796 -0.000535 -0.006330 -0.014014  0.005332 -0.003662   \n",
       "\n",
       "                 XOM  \n",
       "Date                  \n",
       "2016-01-04 -0.006286  \n",
       "2016-01-05  0.008521  \n",
       "2016-01-06 -0.008321  \n",
       "2016-01-07 -0.016006  \n",
       "2016-01-08 -0.020202  \n",
       "...              ...  \n",
       "2016-12-23 -0.001761  \n",
       "2016-12-27  0.000441  \n",
       "2016-12-28 -0.004959  \n",
       "2016-12-29  0.000554  \n",
       "2016-12-30 -0.000996  \n",
       "\n",
       "[252 rows x 7 columns]"
      ]
     },
     "execution_count": 35,
     "metadata": {},
     "output_type": "execute_result"
    }
   ],
   "source": [
    "data_df['Adj Close'].pct_change().dropna()"
   ]
  },
  {
   "cell_type": "code",
   "execution_count": 62,
   "metadata": {},
   "outputs": [],
   "source": [
    "weights=[0.15,0.2,0.2,0.15,0.1,0.15,0.05]"
   ]
  },
  {
   "cell_type": "code",
   "execution_count": 63,
   "metadata": {},
   "outputs": [],
   "source": [
    "port_daily_return=np.dot(weights,data_df['Adj Close'].pct_change().dropna().T)"
   ]
  },
  {
   "cell_type": "code",
   "execution_count": 64,
   "metadata": {},
   "outputs": [],
   "source": [
    "port_daily_return.sort()"
   ]
  },
  {
   "cell_type": "code",
   "execution_count": 65,
   "metadata": {},
   "outputs": [
    {
     "data": {
      "text/plain": [
       "-0.014663853181955372"
      ]
     },
     "execution_count": 65,
     "metadata": {},
     "output_type": "execute_result"
    }
   ],
   "source": [
    "np.quantile(port_daily_return,q=0.05)"
   ]
  },
  {
   "cell_type": "code",
   "execution_count": 66,
   "metadata": {
    "scrolled": false
   },
   "outputs": [
    {
     "data": {
      "text/plain": [
       "array([-0.03815698, -0.03013781, -0.02941983, -0.02656794, -0.02118777,\n",
       "       -0.02036254, -0.01904709, -0.01867242, -0.017415  , -0.01726935,\n",
       "       -0.01698118, -0.01652026, -0.01544585])"
      ]
     },
     "execution_count": 66,
     "metadata": {},
     "output_type": "execute_result"
    }
   ],
   "source": [
    "port_daily_return[port_daily_return<=np.quantile(port_daily_return,q=0.05)]"
   ]
  },
  {
   "cell_type": "code",
   "execution_count": 67,
   "metadata": {
    "scrolled": false
   },
   "outputs": [
    {
     "data": {
      "text/plain": [
       "-0.022091078471798555"
      ]
     },
     "execution_count": 67,
     "metadata": {},
     "output_type": "execute_result"
    }
   ],
   "source": [
    "port_daily_return[port_daily_return<=np.quantile(port_daily_return,q=0.05)].mean()"
   ]
  },
  {
   "cell_type": "code",
   "execution_count": 68,
   "metadata": {},
   "outputs": [],
   "source": [
    "covariance_matrix=data_df['Adj Close'].pct_change().dropna().cov()"
   ]
  },
  {
   "cell_type": "code",
   "execution_count": 74,
   "metadata": {},
   "outputs": [],
   "source": [
    "expected_mean=port_daily_return.mean()"
   ]
  },
  {
   "cell_type": "code",
   "execution_count": 75,
   "metadata": {},
   "outputs": [
    {
     "data": {
      "text/plain": [
       "0.0006768970446547169"
      ]
     },
     "execution_count": 75,
     "metadata": {},
     "output_type": "execute_result"
    }
   ],
   "source": [
    "expected_mean"
   ]
  },
  {
   "cell_type": "code",
   "execution_count": 79,
   "metadata": {},
   "outputs": [],
   "source": [
    "expected_variance=np.dot(np.dot(weights,covariance_matrix),weights)"
   ]
  },
  {
   "cell_type": "code",
   "execution_count": 80,
   "metadata": {},
   "outputs": [
    {
     "data": {
      "text/plain": [
       "8.81349130912686e-05"
      ]
     },
     "execution_count": 80,
     "metadata": {},
     "output_type": "execute_result"
    }
   ],
   "source": [
    "expected_variance"
   ]
  },
  {
   "cell_type": "code",
   "execution_count": 107,
   "metadata": {},
   "outputs": [],
   "source": [
    "var_95=-1.6449*np.sqrt(expected_variance)+expected_mean"
   ]
  },
  {
   "cell_type": "code",
   "execution_count": 108,
   "metadata": {
    "scrolled": true
   },
   "outputs": [
    {
     "data": {
      "text/plain": [
       "-0.01476545649011265"
      ]
     },
     "execution_count": 108,
     "metadata": {},
     "output_type": "execute_result"
    }
   ],
   "source": [
    "var_95"
   ]
  },
  {
   "cell_type": "code",
   "execution_count": 112,
   "metadata": {},
   "outputs": [
    {
     "name": "stdout",
     "output_type": "stream",
     "text": [
      "-0.01868647903574482\n"
     ]
    }
   ],
   "source": [
    "from scipy import integrate\n",
    "def f(x, miu, sigma):\n",
    "    return x*(1/(np.sqrt(2*np.pi)*sigma))*np.exp(-0.5*((x-miu)**2/sigma**2))\n",
    "v, err = integrate.quad(f, -np.inf,var_95, args = (expected_mean, np.sqrt(expected_variance)))\n",
    "print(v/0.05)"
   ]
  }
 ],
 "metadata": {
  "kernelspec": {
   "display_name": "Python 3",
   "language": "python",
   "name": "python3"
  },
  "language_info": {
   "codemirror_mode": {
    "name": "ipython",
    "version": 3
   },
   "file_extension": ".py",
   "mimetype": "text/x-python",
   "name": "python",
   "nbconvert_exporter": "python",
   "pygments_lexer": "ipython3",
   "version": "3.8.5"
  }
 },
 "nbformat": 4,
 "nbformat_minor": 4
}
